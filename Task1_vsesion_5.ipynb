{
 "cells": [
  {
   "cell_type": "code",
   "execution_count": 1,
   "metadata": {},
   "outputs": [],
   "source": [
    "import pandas as pd\n",
    "import numpy as np\n",
    "import sklearn\n",
    "from sklearn.model_selection import train_test_split\n",
    "from sklearn.feature_extraction.text import CountVectorizer\n",
    "from sklearn.feature_extraction.text import TfidfVectorizer\n",
    "from sklearn.feature_extraction.text import HashingVectorizer"
   ]
  },
  {
   "cell_type": "code",
   "execution_count": 33,
   "metadata": {},
   "outputs": [],
   "source": [
    "from sklearn.naive_bayes import MultinomialNB\n",
    "from sklearn.linear_model import PassiveAggressiveClassifier\n",
    "from sklearn.ensemble import RandomForestClassifier\n",
    "from sklearn.tree import DecisionTreeClassifier\n",
    "from sklearn.linear_model import LogisticRegression\n",
    "from sklearn.ensemble import AdaBoostClassifier\n",
    "from sklearn.neighbors import KNeighborsClassifier\n",
    "from sklearn.neural_network import MLPClassifier\n",
    "from sklearn.svm import SVC"
   ]
  },
  {
   "cell_type": "code",
   "execution_count": 34,
   "metadata": {},
   "outputs": [],
   "source": [
    "from sklearn import metrics\n",
    "from sklearn.metrics import confusion_matrix\n",
    "from matplotlib import pyplot as plt\n",
    "import itertools"
   ]
  },
  {
   "cell_type": "code",
   "execution_count": 35,
   "metadata": {},
   "outputs": [],
   "source": [
    "dataframe = pd.read_csv(\"C:/Users/Administrator/Desktop/datasets-v5/task-1/task1.train.txt\",delimiter=\"\\t\")"
   ]
  },
  {
   "cell_type": "code",
   "execution_count": 36,
   "metadata": {},
   "outputs": [],
   "source": [
    "dataframe.to_csv(\"C:/Users/Administrator/Desktop/datasets-v5/New_Task1.train.csv\", encoding='utf-8', index=False)"
   ]
  },
  {
   "cell_type": "code",
   "execution_count": 37,
   "metadata": {},
   "outputs": [],
   "source": [
    "df = pd.read_csv(\"C:/Users/Administrator/Desktop/datasets-v5/New_Task1.train.csv\", header=None)"
   ]
  },
  {
   "cell_type": "code",
   "execution_count": 38,
   "metadata": {},
   "outputs": [
    {
     "data": {
      "text/html": [
       "<div>\n",
       "<style scoped>\n",
       "    .dataframe tbody tr th:only-of-type {\n",
       "        vertical-align: middle;\n",
       "    }\n",
       "\n",
       "    .dataframe tbody tr th {\n",
       "        vertical-align: top;\n",
       "    }\n",
       "\n",
       "    .dataframe thead th {\n",
       "        text-align: right;\n",
       "    }\n",
       "</style>\n",
       "<table border=\"1\" class=\"dataframe\">\n",
       "  <thead>\n",
       "    <tr style=\"text-align: right;\">\n",
       "      <th></th>\n",
       "      <th>0</th>\n",
       "      <th>1</th>\n",
       "      <th>2</th>\n",
       "    </tr>\n",
       "  </thead>\n",
       "  <tbody>\n",
       "    <tr>\n",
       "      <th>0</th>\n",
       "      <td>Et tu, Rhody?  A recent editorial in the Provi...</td>\n",
       "      <td>727600136</td>\n",
       "      <td>non-propaganda</td>\n",
       "    </tr>\n",
       "    <tr>\n",
       "      <th>1</th>\n",
       "      <td>A recent post in The Farmington Mirror — our t...</td>\n",
       "      <td>731714618</td>\n",
       "      <td>non-propaganda</td>\n",
       "    </tr>\n",
       "    <tr>\n",
       "      <th>2</th>\n",
       "      <td>President Donald Trump, as he often does while...</td>\n",
       "      <td>731714635</td>\n",
       "      <td>non-propaganda</td>\n",
       "    </tr>\n",
       "    <tr>\n",
       "      <th>3</th>\n",
       "      <td>February is Black History Month, and nothing l...</td>\n",
       "      <td>728627182</td>\n",
       "      <td>non-propaganda</td>\n",
       "    </tr>\n",
       "    <tr>\n",
       "      <th>4</th>\n",
       "      <td>The snow was so heavy, whipped up by gusting w...</td>\n",
       "      <td>728627443</td>\n",
       "      <td>non-propaganda</td>\n",
       "    </tr>\n",
       "  </tbody>\n",
       "</table>\n",
       "</div>"
      ],
      "text/plain": [
       "                                                   0          1  \\\n",
       "0  Et tu, Rhody?  A recent editorial in the Provi...  727600136   \n",
       "1  A recent post in The Farmington Mirror — our t...  731714618   \n",
       "2  President Donald Trump, as he often does while...  731714635   \n",
       "3  February is Black History Month, and nothing l...  728627182   \n",
       "4  The snow was so heavy, whipped up by gusting w...  728627443   \n",
       "\n",
       "                2  \n",
       "0  non-propaganda  \n",
       "1  non-propaganda  \n",
       "2  non-propaganda  \n",
       "3  non-propaganda  \n",
       "4  non-propaganda  "
      ]
     },
     "execution_count": 38,
     "metadata": {},
     "output_type": "execute_result"
    }
   ],
   "source": [
    "df.head()"
   ]
  },
  {
   "cell_type": "code",
   "execution_count": 39,
   "metadata": {},
   "outputs": [],
   "source": [
    "df.columns =['Title_Content','article_id','label']"
   ]
  },
  {
   "cell_type": "code",
   "execution_count": 40,
   "metadata": {},
   "outputs": [
    {
     "data": {
      "text/plain": [
       "Title_Content    0\n",
       "article_id       0\n",
       "label            0\n",
       "dtype: int64"
      ]
     },
     "execution_count": 40,
     "metadata": {},
     "output_type": "execute_result"
    }
   ],
   "source": [
    "df.isnull().sum()"
   ]
  },
  {
   "cell_type": "code",
   "execution_count": 41,
   "metadata": {},
   "outputs": [
    {
     "data": {
      "text/plain": [
       "(35986, 3)"
      ]
     },
     "execution_count": 41,
     "metadata": {},
     "output_type": "execute_result"
    }
   ],
   "source": [
    "df.shape"
   ]
  },
  {
   "cell_type": "code",
   "execution_count": 42,
   "metadata": {},
   "outputs": [
    {
     "data": {
      "text/html": [
       "<div>\n",
       "<style scoped>\n",
       "    .dataframe tbody tr th:only-of-type {\n",
       "        vertical-align: middle;\n",
       "    }\n",
       "\n",
       "    .dataframe tbody tr th {\n",
       "        vertical-align: top;\n",
       "    }\n",
       "\n",
       "    .dataframe thead th {\n",
       "        text-align: right;\n",
       "    }\n",
       "</style>\n",
       "<table border=\"1\" class=\"dataframe\">\n",
       "  <thead>\n",
       "    <tr style=\"text-align: right;\">\n",
       "      <th></th>\n",
       "      <th>Title_Content</th>\n",
       "      <th>article_id</th>\n",
       "    </tr>\n",
       "  </thead>\n",
       "  <tbody>\n",
       "    <tr>\n",
       "      <th>0</th>\n",
       "      <td>Et tu, Rhody?  A recent editorial in the Provi...</td>\n",
       "      <td>727600136</td>\n",
       "    </tr>\n",
       "    <tr>\n",
       "      <th>1</th>\n",
       "      <td>A recent post in The Farmington Mirror — our t...</td>\n",
       "      <td>731714618</td>\n",
       "    </tr>\n",
       "  </tbody>\n",
       "</table>\n",
       "</div>"
      ],
      "text/plain": [
       "                                       Title_Content  article_id\n",
       "0  Et tu, Rhody?  A recent editorial in the Provi...   727600136\n",
       "1  A recent post in The Farmington Mirror — our t...   731714618"
      ]
     },
     "execution_count": 42,
     "metadata": {},
     "output_type": "execute_result"
    }
   ],
   "source": [
    "y=df['label']\n",
    "df1 = df.drop('label',axis=1)\n",
    "df1.head(2)"
   ]
  },
  {
   "cell_type": "code",
   "execution_count": 85,
   "metadata": {},
   "outputs": [
    {
     "data": {
      "text/plain": [
       "8438     Courtesy of Acer Philippines Facebook page  MA...\n",
       "28823    Google’s decision to block all adverts relatin...\n",
       "14178    The Oxfam sex scandal has once again placed on...\n",
       "32430    There’s no need at this point to pull any punc...\n",
       "30864    US-China thought leaders, scholars and busines...\n",
       "1299     The B.C. Civil Liberties Association and Docto...\n",
       "12803    Yet another citizen falls to muggers’ bullets ...\n",
       "2070     © RNZ / Diego Opatowski 24/01/13. Photo Diego ...\n",
       "2518     © CNN News 18  Across several metro stations i...\n",
       "24160    LUDHIANA: On a call given by United Forum of B...\n",
       "108      Connecticut school districts showed little imp...\n",
       "7660     KUALA LUMPUR (Reuters) - An article by a Malay...\n",
       "1915     © Bloomberg via Getty Images Anthony Scaramucc...\n",
       "11019    Nearly 1.7 million people have signed an onlin...\n",
       "11303    A former Egyptian ambassador said that the cur...\n",
       "15302    NewsFaith  HOLLYWOOD, California, January 31, ...\n",
       "25361    On Monday, the National Rifle Association (NRA...\n",
       "23896    RAJKOT: In line with the state government’s re...\n",
       "28614    Of 15 mobile phones belonging to former the ga...\n",
       "22490    A package from Amazon Prime moves on a conveyo...\n",
       "27025    The housing market at a North Korea-China bord...\n",
       "16482    One week after 17 people were killed at a Flor...\n",
       "9189     Vice President M Venkaiah Naidu today condemne...\n",
       "31897    An old man sits in a stone steps street at the...\n",
       "8300     Watch more in iWantv or TFC.tv  But PH uncerta...\n",
       "19216    US Director of National Intelligence Dan Coats...\n",
       "3056     © Provided by The New Indian Express Carles Pu...\n",
       "28219    ALPHARETTA, Ga. -- A police department in Geor...\n",
       "20500    The number of hate groups across the country g...\n",
       "10962    Dozens of Jordanians demonstrated in central A...\n",
       "                               ...                        \n",
       "25265    ANKARA (Sputnik) – Turkey is resisting Western...\n",
       "13970    For recipients of the Deferred Action for Chil...\n",
       "13878    Hoppy Brewing co-owner Troy Paski will close h...\n",
       "1715     © NICHOLAS KAMM/AFP/Getty Images White House s...\n",
       "29434    Former Alaska Gov. Sarah Palin (R) said it’s a...\n",
       "30975    Around 60 activists began a march from the Fre...\n",
       "19788    The union representing 3,700 St. Paul teachers...\n",
       "33426    We thought the Obama administration could stoo...\n",
       "26184    WASHINGTON (AP) — US President Donald Trump sa...\n",
       "10132    In this Oct. 19, 2016 photo, a man fishes for ...\n",
       "34564    Despite this compelling evidence of dishonesty...\n",
       "32924    Nidal Mohamed Sakr, Muslim Brotherhood operati...\n",
       "26190    UNITED NATION — The United States on Friday as...\n",
       "22643    Want smart analysis of the most important news...\n",
       "18980    The Sunday crash of an Iranian ATR 72 passenge...\n",
       "23993    COLOMBO: Sri Lankan President Maithripala Siri...\n",
       "26191    WASHINGTON — Donald Trump’s new attorney indic...\n",
       "3085     © SAUL LOEB/AFP/Getty Images Former FBI Direct...\n",
       "2568     © Provided by Business Insider Donald Trump Ki...\n",
       "6195     WASHINGTON — President Donald Trump's CIA nomi...\n",
       "28657    Abcam’s founder Jonathan Milner sits on the bo...\n",
       "32746    Personal Liberty Poll Exercise your right to v...\n",
       "7590     Ryan Coogler and Lupita Nyong'o attend the 'Bl...\n",
       "8591     Lawyer of former Budget Undersecretary Mario R...\n",
       "34091    On Independence Day, for normal Americans the ...\n",
       "9205     US President Donald Trump has a \"strong relati...\n",
       "1354     © Provided by Independent Digital News & Media...\n",
       "7587     Alex Wong/Getty Images  Staff members of Vice ...\n",
       "19265    A top lawmaker at the US House of Representati...\n",
       "33280    As Reuters reports, President Trump, subject t...\n",
       "Name: Title_Content, Length: 10796, dtype: object"
      ]
     },
     "execution_count": 85,
     "metadata": {},
     "output_type": "execute_result"
    }
   ],
   "source": [
    "X_train,X_test,y_train,y_test = train_test_split(df1['Title_Content'],y,test_size =0.3, random_state= 100)\n",
    "type(X_test.head())\n",
    "X_test"
   ]
  },
  {
   "cell_type": "code",
   "execution_count": 113,
   "metadata": {},
   "outputs": [],
   "source": [
    "#tfidf_vectorizer = TfidfVectorizer(stop_words='english')\n",
    "tfidf_vectorizer = TfidfVectorizer(stop_words='english', max_df=0.8)"
   ]
  },
  {
   "cell_type": "code",
   "execution_count": 114,
   "metadata": {},
   "outputs": [],
   "source": [
    "tfidf_train = tfidf_vectorizer.fit(X_train)\n",
    "tfidf_train = tfidf_vectorizer.transform(X_train)\n",
    "tfidf_test = tfidf_vectorizer.transform(X_test)"
   ]
  },
  {
   "cell_type": "code",
   "execution_count": 115,
   "metadata": {},
   "outputs": [
    {
     "name": "stderr",
     "output_type": "stream",
     "text": [
      "C:\\ProgramData\\Anaconda3\\lib\\site-packages\\sklearn\\linear_model\\stochastic_gradient.py:117: DeprecationWarning: n_iter parameter is deprecated in 0.19 and will be removed in 0.21. Use max_iter and tol instead.\n",
      "  DeprecationWarning)\n"
     ]
    },
    {
     "name": "stdout",
     "output_type": "stream",
     "text": [
      "['non-propaganda' 'non-propaganda' 'non-propaganda' ... 'non-propaganda'\n",
      " 'non-propaganda' 'propaganda']\n",
      "accuracy:   0.960\n",
      "0.8\n"
     ]
    }
   ],
   "source": [
    "linear_clf = PassiveAggressiveClassifier(n_iter=50)\n",
    "\n",
    "linear_clf.fit(tfidf_train, y_train)\n",
    "pred = linear_clf.predict(tfidf_test)\n",
    "print(pred)\n",
    "score_pa_tfidf = metrics.accuracy_score(y_test, pred)\n",
    "score_pa_tfidf = round(score_pa_tfidf,3)\n",
    "print(\"accuracy:   %0.3f\" % score_pa_tfidf)\n",
    "tn,fp,fn,tp = metrics.confusion_matrix(y_test, pred, labels=['non-propaganda', 'propaganda']).ravel()\n",
    "R = (tp/(tp+fn)) # recall/sensitivity\n",
    "P = (tp/(tp+fp)) # precision\n",
    "F1_pa = (2*P*R)/(P+R)\n",
    "print(F1_pa)"
   ]
  },
  {
   "cell_type": "code",
   "execution_count": 138,
   "metadata": {},
   "outputs": [
    {
     "name": "stdout",
     "output_type": "stream",
     "text": [
      "accuracy:   0.961\n",
      "0.803921568627451\n"
     ]
    }
   ],
   "source": [
    "mlp = MLPClassifier(hidden_layer_sizes=(5,5,4)) # initially(554_0.787)(573_0.556)\n",
    "mlp.fit(tfidf_train, y_train)\n",
    "pred = mlp.predict(tfidf_test)\n",
    "score= metrics.accuracy_score(y_test, pred)\n",
    "score_cnt_mlp=round(score,3)\n",
    "#print(score_knn_tfidf)\n",
    "print(\"accuracy:   %0.3f\" % score)\n",
    "tn,fp,fn,tp = metrics.confusion_matrix(y_test, pred, labels=['non-propaganda', 'propaganda']).ravel()\n",
    "R = (tp/(tp+fn)) # recall/sensitivity\n",
    "P = (tp/(tp+fp)) # precision\n",
    "F1_mlp_cnt = (2*P*R)/(P+R)\n",
    "print(F1_mlp_cnt)"
   ]
  },
  {
   "cell_type": "code",
   "execution_count": 10,
   "metadata": {},
   "outputs": [],
   "source": [
    "dev_data=pd.read_csv('C:/Users/Administrator/Desktop/dev-INPUT/task-1/task1.dev.txt',delimiter=\"\\t\")"
   ]
  },
  {
   "cell_type": "code",
   "execution_count": 14,
   "metadata": {},
   "outputs": [],
   "source": [
    "dev_data.to_csv(\"C:/Users/Administrator/Desktop/dev-INPUT/task-1/New_Task1.dev.csv\", encoding='utf-8', index=False)"
   ]
  },
  {
   "cell_type": "code",
   "execution_count": 20,
   "metadata": {},
   "outputs": [
    {
     "data": {
      "text/html": [
       "<div>\n",
       "<style scoped>\n",
       "    .dataframe tbody tr th:only-of-type {\n",
       "        vertical-align: middle;\n",
       "    }\n",
       "\n",
       "    .dataframe tbody tr th {\n",
       "        vertical-align: top;\n",
       "    }\n",
       "\n",
       "    .dataframe thead th {\n",
       "        text-align: right;\n",
       "    }\n",
       "</style>\n",
       "<table border=\"1\" class=\"dataframe\">\n",
       "  <thead>\n",
       "    <tr style=\"text-align: right;\">\n",
       "      <th></th>\n",
       "      <th>0</th>\n",
       "      <th>1</th>\n",
       "      <th>2</th>\n",
       "    </tr>\n",
       "  </thead>\n",
       "  <tbody>\n",
       "    <tr>\n",
       "      <th>0</th>\n",
       "      <td>Building a quick beat, the North Chicago poet ...</td>\n",
       "      <td>200017</td>\n",
       "      <td>?</td>\n",
       "    </tr>\n",
       "    <tr>\n",
       "      <th>1</th>\n",
       "      <td>If you needed a further reminder of how Metro ...</td>\n",
       "      <td>200036</td>\n",
       "      <td>?</td>\n",
       "    </tr>\n",
       "    <tr>\n",
       "      <th>2</th>\n",
       "      <td>Taylor Swift famously withheld her back catalo...</td>\n",
       "      <td>200038</td>\n",
       "      <td>?</td>\n",
       "    </tr>\n",
       "    <tr>\n",
       "      <th>3</th>\n",
       "      <td>May 14 squall line on radar. (Radarscope)  Mon...</td>\n",
       "      <td>200086</td>\n",
       "      <td>?</td>\n",
       "    </tr>\n",
       "    <tr>\n",
       "      <th>4</th>\n",
       "      <td>A pre-emptive attack by the United States agai...</td>\n",
       "      <td>200113</td>\n",
       "      <td>?</td>\n",
       "    </tr>\n",
       "  </tbody>\n",
       "</table>\n",
       "</div>"
      ],
      "text/plain": [
       "                                                   0       1  2\n",
       "0  Building a quick beat, the North Chicago poet ...  200017  ?\n",
       "1  If you needed a further reminder of how Metro ...  200036  ?\n",
       "2  Taylor Swift famously withheld her back catalo...  200038  ?\n",
       "3  May 14 squall line on radar. (Radarscope)  Mon...  200086  ?\n",
       "4  A pre-emptive attack by the United States agai...  200113  ?"
      ]
     },
     "execution_count": 20,
     "metadata": {},
     "output_type": "execute_result"
    }
   ],
   "source": [
    "dev = pd.read_csv(\"C:/Users/Administrator/Desktop/dev-INPUT/task-1/New_Task1.dev.csv\", header=None)\n",
    "dev.head()"
   ]
  },
  {
   "cell_type": "code",
   "execution_count": 127,
   "metadata": {},
   "outputs": [
    {
     "data": {
      "text/plain": [
       "0    200017\n",
       "1    200036\n",
       "2    200038\n",
       "3    200086\n",
       "4    200113\n",
       "Name: article_id, dtype: int64"
      ]
     },
     "execution_count": 127,
     "metadata": {},
     "output_type": "execute_result"
    }
   ],
   "source": [
    "dev.columns =['Title_Content','article_id','label']\n",
    "dev['article_id'].head()"
   ]
  },
  {
   "cell_type": "code",
   "execution_count": 96,
   "metadata": {},
   "outputs": [
    {
     "data": {
      "text/html": [
       "<div>\n",
       "<style scoped>\n",
       "    .dataframe tbody tr th:only-of-type {\n",
       "        vertical-align: middle;\n",
       "    }\n",
       "\n",
       "    .dataframe tbody tr th {\n",
       "        vertical-align: top;\n",
       "    }\n",
       "\n",
       "    .dataframe thead th {\n",
       "        text-align: right;\n",
       "    }\n",
       "</style>\n",
       "<table border=\"1\" class=\"dataframe\">\n",
       "  <thead>\n",
       "    <tr style=\"text-align: right;\">\n",
       "      <th></th>\n",
       "      <th>Title_Content</th>\n",
       "    </tr>\n",
       "    <tr>\n",
       "      <th>article_id</th>\n",
       "      <th></th>\n",
       "    </tr>\n",
       "  </thead>\n",
       "  <tbody>\n",
       "    <tr>\n",
       "      <th>200017</th>\n",
       "      <td>Building a quick beat, the North Chicago poet ...</td>\n",
       "    </tr>\n",
       "    <tr>\n",
       "      <th>200036</th>\n",
       "      <td>If you needed a further reminder of how Metro ...</td>\n",
       "    </tr>\n",
       "    <tr>\n",
       "      <th>200038</th>\n",
       "      <td>Taylor Swift famously withheld her back catalo...</td>\n",
       "    </tr>\n",
       "    <tr>\n",
       "      <th>200086</th>\n",
       "      <td>May 14 squall line on radar. (Radarscope)  Mon...</td>\n",
       "    </tr>\n",
       "    <tr>\n",
       "      <th>200113</th>\n",
       "      <td>A pre-emptive attack by the United States agai...</td>\n",
       "    </tr>\n",
       "  </tbody>\n",
       "</table>\n",
       "</div>"
      ],
      "text/plain": [
       "                                                Title_Content\n",
       "article_id                                                   \n",
       "200017      Building a quick beat, the North Chicago poet ...\n",
       "200036      If you needed a further reminder of how Metro ...\n",
       "200038      Taylor Swift famously withheld her back catalo...\n",
       "200086      May 14 squall line on radar. (Radarscope)  Mon...\n",
       "200113      A pre-emptive attack by the United States agai..."
      ]
     },
     "execution_count": 96,
     "metadata": {},
     "output_type": "execute_result"
    }
   ],
   "source": [
    "dev1 = dev.drop('label',axis=1)\n",
    "\n",
    "dev1 =dev1.set_index('article_id')\n",
    "#dev1 =pd.Series(dev1)\n",
    "#type(dev1)\n",
    "dev1.head()\n"
   ]
  },
  {
   "cell_type": "code",
   "execution_count": 31,
   "metadata": {},
   "outputs": [
    {
     "data": {
      "text/plain": [
       "<2x2 sparse matrix of type '<class 'numpy.float64'>'\n",
       "\twith 2 stored elements in Compressed Sparse Row format>"
      ]
     },
     "execution_count": 31,
     "metadata": {},
     "output_type": "execute_result"
    }
   ],
   "source": [
    "linear_clf = PassiveAggressiveClassifier(n_iter=50)\n",
    "\n",
    "linear_clf.fit(tfidf_train, y_train)\n",
    "pred = linear_clf.predict(tfidf_data)\n",
    "score_pa_tfidf = metrics.accuracy_score(y_test, pred)\n",
    "score_pa_tfidf = round(score_pa_tfidf,3)\n",
    "print(\"accuracy:   %0.3f\" % score_pa_tfidf)\n",
    "tn,fp,fn,tp = metrics.confusion_matrix(y_test, pred, labels=['non-propaganda', 'propaganda']).ravel()\n",
    "R = (tp/(tp+fn)) # recall/sensitivity\n",
    "P = (tp/(tp+fp)) # precision\n",
    "F1_pa = (2*P*R)/(P+R)\n",
    "print(F1_pa)"
   ]
  },
  {
   "cell_type": "code",
   "execution_count": 98,
   "metadata": {},
   "outputs": [],
   "source": [
    "#tfidf_vectorizer = TfidfVectorizer(stop_words='english')"
   ]
  },
  {
   "cell_type": "code",
   "execution_count": 117,
   "metadata": {},
   "outputs": [],
   "source": [
    "tfidf_dev=tfidf_vectorizer.transform(dev1['Title_Content'])"
   ]
  },
  {
   "cell_type": "markdown",
   "metadata": {},
   "source": [
    "# Dev data Prediction  for Passive Aggresion"
   ]
  },
  {
   "cell_type": "code",
   "execution_count": 118,
   "metadata": {},
   "outputs": [],
   "source": [
    "pred = linear_clf.predict(tfidf_dev)"
   ]
  },
  {
   "cell_type": "code",
   "execution_count": 119,
   "metadata": {},
   "outputs": [
    {
     "data": {
      "text/plain": [
       "array(['non-propaganda', 'non-propaganda', 'non-propaganda', ...,\n",
       "       'non-propaganda', 'non-propaganda', 'non-propaganda'], dtype='<U14')"
      ]
     },
     "execution_count": 119,
     "metadata": {},
     "output_type": "execute_result"
    }
   ],
   "source": [
    "pred"
   ]
  },
  {
   "cell_type": "code",
   "execution_count": 130,
   "metadata": {},
   "outputs": [
    {
     "data": {
      "text/html": [
       "<div>\n",
       "<style scoped>\n",
       "    .dataframe tbody tr th:only-of-type {\n",
       "        vertical-align: middle;\n",
       "    }\n",
       "\n",
       "    .dataframe tbody tr th {\n",
       "        vertical-align: top;\n",
       "    }\n",
       "\n",
       "    .dataframe thead th {\n",
       "        text-align: right;\n",
       "    }\n",
       "</style>\n",
       "<table border=\"1\" class=\"dataframe\">\n",
       "  <thead>\n",
       "    <tr style=\"text-align: right;\">\n",
       "      <th></th>\n",
       "      <th>art_id</th>\n",
       "      <th>class</th>\n",
       "    </tr>\n",
       "  </thead>\n",
       "  <tbody>\n",
       "    <tr>\n",
       "      <th>0</th>\n",
       "      <td>200017</td>\n",
       "      <td>non-propaganda</td>\n",
       "    </tr>\n",
       "    <tr>\n",
       "      <th>1</th>\n",
       "      <td>200036</td>\n",
       "      <td>non-propaganda</td>\n",
       "    </tr>\n",
       "    <tr>\n",
       "      <th>2</th>\n",
       "      <td>200038</td>\n",
       "      <td>non-propaganda</td>\n",
       "    </tr>\n",
       "    <tr>\n",
       "      <th>3</th>\n",
       "      <td>200086</td>\n",
       "      <td>non-propaganda</td>\n",
       "    </tr>\n",
       "    <tr>\n",
       "      <th>4</th>\n",
       "      <td>200113</td>\n",
       "      <td>non-propaganda</td>\n",
       "    </tr>\n",
       "  </tbody>\n",
       "</table>\n",
       "</div>"
      ],
      "text/plain": [
       "   art_id           class\n",
       "0  200017  non-propaganda\n",
       "1  200036  non-propaganda\n",
       "2  200038  non-propaganda\n",
       "3  200086  non-propaganda\n",
       "4  200113  non-propaganda"
      ]
     },
     "execution_count": 130,
     "metadata": {},
     "output_type": "execute_result"
    }
   ],
   "source": [
    "pred1 = pd.DataFrame(pred)\n",
    "pred1['article_id']=dev['article_id']\n",
    "dev_pred = pd.DataFrame({\"art_id\":pred1['article_id'],\"class\":pred1[0]},columns = ['art_id','class'])\n",
    "\n",
    "dev_pred.head()"
   ]
  },
  {
   "cell_type": "code",
   "execution_count": 137,
   "metadata": {},
   "outputs": [],
   "source": [
    "dev_pred.to_csv('C:/Users/Administrator/Desktop/dev-INPUT/task-1/dev.txt', header = False,index=False, sep='\\t',mode='a')"
   ]
  },
  {
   "cell_type": "markdown",
   "metadata": {},
   "source": [
    "# Dev Data prediction for MLNN"
   ]
  },
  {
   "cell_type": "code",
   "execution_count": 139,
   "metadata": {},
   "outputs": [],
   "source": [
    "pred_MLNN = linear_clf.predict(tfidf_dev)"
   ]
  },
  {
   "cell_type": "code",
   "execution_count": 140,
   "metadata": {},
   "outputs": [
    {
     "data": {
      "text/html": [
       "<div>\n",
       "<style scoped>\n",
       "    .dataframe tbody tr th:only-of-type {\n",
       "        vertical-align: middle;\n",
       "    }\n",
       "\n",
       "    .dataframe tbody tr th {\n",
       "        vertical-align: top;\n",
       "    }\n",
       "\n",
       "    .dataframe thead th {\n",
       "        text-align: right;\n",
       "    }\n",
       "</style>\n",
       "<table border=\"1\" class=\"dataframe\">\n",
       "  <thead>\n",
       "    <tr style=\"text-align: right;\">\n",
       "      <th></th>\n",
       "      <th>art_id</th>\n",
       "      <th>class</th>\n",
       "    </tr>\n",
       "  </thead>\n",
       "  <tbody>\n",
       "    <tr>\n",
       "      <th>0</th>\n",
       "      <td>200017</td>\n",
       "      <td>non-propaganda</td>\n",
       "    </tr>\n",
       "    <tr>\n",
       "      <th>1</th>\n",
       "      <td>200036</td>\n",
       "      <td>non-propaganda</td>\n",
       "    </tr>\n",
       "    <tr>\n",
       "      <th>2</th>\n",
       "      <td>200038</td>\n",
       "      <td>non-propaganda</td>\n",
       "    </tr>\n",
       "    <tr>\n",
       "      <th>3</th>\n",
       "      <td>200086</td>\n",
       "      <td>non-propaganda</td>\n",
       "    </tr>\n",
       "    <tr>\n",
       "      <th>4</th>\n",
       "      <td>200113</td>\n",
       "      <td>non-propaganda</td>\n",
       "    </tr>\n",
       "  </tbody>\n",
       "</table>\n",
       "</div>"
      ],
      "text/plain": [
       "   art_id           class\n",
       "0  200017  non-propaganda\n",
       "1  200036  non-propaganda\n",
       "2  200038  non-propaganda\n",
       "3  200086  non-propaganda\n",
       "4  200113  non-propaganda"
      ]
     },
     "execution_count": 140,
     "metadata": {},
     "output_type": "execute_result"
    }
   ],
   "source": [
    "pred1_MLNN = pd.DataFrame(pred_MLNN)\n",
    "pred1_MLNN['article_id']=dev['article_id']\n",
    "dev_pred_MLNN = pd.DataFrame({\"art_id\":pred1_MLNN['article_id'],\"class\":pred1_MLNN[0]},columns = ['art_id','class'])\n",
    "\n",
    "dev_pred_MLNN.head()"
   ]
  },
  {
   "cell_type": "code",
   "execution_count": 141,
   "metadata": {},
   "outputs": [],
   "source": [
    "dev_pred.to_csv('C:/Users/Administrator/Desktop/dev-INPUT/task-1/dev_MLNN.txt', header = False,index=False, sep='\\t',mode='a')"
   ]
  }
 ],
 "metadata": {
  "kernelspec": {
   "display_name": "Python 3",
   "language": "python",
   "name": "python3"
  },
  "language_info": {
   "codemirror_mode": {
    "name": "ipython",
    "version": 3
   },
   "file_extension": ".py",
   "mimetype": "text/x-python",
   "name": "python",
   "nbconvert_exporter": "python",
   "pygments_lexer": "ipython3",
   "version": "3.6.5"
  }
 },
 "nbformat": 4,
 "nbformat_minor": 2
}
