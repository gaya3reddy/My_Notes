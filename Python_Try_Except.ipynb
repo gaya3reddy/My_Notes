{
 "cells": [
  {
   "cell_type": "markdown",
   "metadata": {},
   "source": [
    "### Pyhton Exception Handling"
   ]
  },
  {
   "cell_type": "code",
   "execution_count": null,
   "metadata": {},
   "outputs": [],
   "source": [
    "# Insted of getting an error will give some info about error to correct it and to get the proper output\n",
    "try:\n",
    "   fob = open(\"test\", \"w\")\n",
    "   fob.write(\"This is my test file for exception handling!!\")\n",
    "except IOError:\n",
    "   print \"Error: can\\'t find the file or read data\"\n",
    "else:\n",
    "   print \"Write operation is performed successfully on the file\"\n",
    "   fob.close()"
   ]
  },
  {
   "cell_type": "code",
   "execution_count": null,
   "metadata": {},
   "outputs": [],
   "source": [
    ">>> raise MemoryError\n",
    "Traceback (most recent call last):\n",
    "...\n",
    "MemoryError\n",
    " \n",
    ">>> raise MemoryError(\"This is an argument\")\n",
    "Traceback (most recent call last):\n",
    "...\n",
    "MemoryError: This is an argument\n",
    " \n",
    " \n",
    ">>> try:\n",
    "      a = int(input(\"Enter a positive integer value: \"))\n",
    "     if a <= 0:\n",
    "            raise ValueError(\"This is not a positive number!!\")\n",
    "    except ValueError as ve:\n",
    "      print(ve)\n",
    " \n",
    " \n",
    "Following Output is displayed if we enter a negative number:\n",
    "  \n",
    "Enter a positive integer: –5\n",
    " \n",
    "This is not a positive number!!"
   ]
  },
  {
   "cell_type": "code",
   "execution_count": null,
   "metadata": {},
   "outputs": [],
   "source": [
    "#define Python user-defined exceptions\n",
    "class Error(Exception):\n",
    "   \"\"\"Base class for other exceptions\"\"\"\n",
    "   pass\n",
    " \n",
    "class InputTooSmallError(Error):\n",
    "   \"\"\"Raised when the entered alpahbet is smaller than the actual one\"\"\"\n",
    "   pass\n",
    " \n",
    "class InputTooLargeError(Error):\n",
    "   \"\"\"Raised when the entered alpahbet is larger than the actual one\"\"\"\n",
    "   pass\n",
    "\n",
    "#our main program\n",
    "#user guesses an alphabet until he/she gets it right\n",
    " \n",
    "#you need to guess this alphabet\n",
    "alphabet = 'm'\n",
    " \n",
    "while True:\n",
    "   try:\n",
    "       apb =  raw_input(\"Enter an alphabet: \")\n",
    "       if apb < alphabet:\n",
    "           raise InputTooSmallError\n",
    "       elif apb > alphabet:\n",
    "           raise InputTooLargeError\n",
    "       break\n",
    "   except InputTooSmallError:\n",
    "       print(\"The entered alphabet is too small, try again!\")\n",
    "       print('')\n",
    "   except InputTooLargeError:\n",
    "       print(\"The entered alphabet is too large, try again!\")\n",
    "       print('')\n",
    " \n",
    "print(\"Congratulations! You guessed it correctly.\")"
   ]
  },
  {
   "cell_type": "code",
   "execution_count": null,
   "metadata": {},
   "outputs": [],
   "source": []
  }
 ],
 "metadata": {
  "kernelspec": {
   "display_name": "Python 3",
   "language": "python",
   "name": "python3"
  },
  "language_info": {
   "codemirror_mode": {
    "name": "ipython",
    "version": 3
   },
   "file_extension": ".py",
   "mimetype": "text/x-python",
   "name": "python",
   "nbconvert_exporter": "python",
   "pygments_lexer": "ipython3",
   "version": "3.6.5"
  }
 },
 "nbformat": 4,
 "nbformat_minor": 2
}
