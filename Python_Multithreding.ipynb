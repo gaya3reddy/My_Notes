{
 "cells": [
  {
   "cell_type": "markdown",
   "metadata": {},
   "source": [
    "## Python Multithreding:\n",
    "\n",
    "#### What Is A Thread In Computer Science?\n",
    "In software programming, a thread is the smallest unit of execution with the independent set of instructions. It is a part of the process and operates in the same context sharing program’s runnable resources like memory. A thread has a starting point, an execution sequence, and a result. It has an instruction pointer that holds the current state of the thread and controls what executes next in what order.\n",
    "\n",
    "#### What Is Multithreading In Computer Science?\n",
    "The ability of a process to execute multiple threads parallelly is called multithreading. Ideally, multithreading can significantly improve the performance of any program. And Python multithreading mechanism is pretty user-friendly which you can learn quickly."
   ]
  },
  {
   "cell_type": "markdown",
   "metadata": {},
   "source": [
    "Find more details through the given link [https://www.techbeamers.com/python-multithreading-concepts]"
   ]
  },
  {
   "cell_type": "markdown",
   "metadata": {},
   "source": [
    "### Python Multithreading Modules\n",
    "\n",
    "Python offers two modules to implement threads in programs.\n",
    "\n",
    "   1. <thread> module and\n",
    "   2. <threading> module.\n",
    "\n",
    "Note: For your information, Python 2.x used to have the <thread> module. But it got deprecated in Python 3.x and renamed to <_thread> module for backward compatibility.\n",
    "\n",
    "The principal difference between the two modules is that the module <_thread> implements a thread as a function. On the other hand, the module <threading> offers an object-oriented approach to enable thread creation.\n",
    "\n",
    "#### How To Use The Thread Module To Create Threads?\n",
    "\n",
    "If you decide the <thread> module to apply in your program, then use the following method to spawn threads.\n",
    "\n",
    "#Syntax\n",
    "thread.start_new_thread ( function, args[, kwargs] )\n",
    "\n",
    "\n",
    "This method is quite efficient and straightforward for creating threads. You can use it to run programs in both Linux and Windows.\n",
    "\n",
    "This method starts a new thread and returns its identifier. It’ll invoke the function specified as the “function” parameter with the passed list of arguments. When the <function> returns, the thread would silently exit.\n",
    "\n",
    "Here, args is a tuple of arguments; use an empty tuple to call <function> without any arguments. The optional <kwargs> argument specifies the dictionary of keyword arguments.\n",
    "\n",
    "If the <function> terminates with an unhandled exception, a stack trace is printed and then the thread exits (It doesn’t affect other threads, they continue to run). Use the below code to learn more about threading.\n"
   ]
  },
  {
   "cell_type": "markdown",
   "metadata": {},
   "source": [
    "### Basic Python Multithreading Example\n",
    "\n",
    "##### 1. Calculate factorial using recursion.\n",
    "##### 2. Call factorial function using thread. \n"
   ]
  },
  {
   "cell_type": "code",
   "execution_count": 5,
   "metadata": {},
   "outputs": [
    {
     "name": "stdout",
     "output_type": "stream",
     "text": [
      "Waiting for threads to return...\n",
      "Thread: 1\n",
      "Thread: 1\n",
      "\n",
      "1! = 1\n",
      "2! = 2\n",
      "3! = 6\n",
      "4! = 24\n",
      "\n",
      "1! = 1\n",
      "2! = 2\n",
      "3! = 6\n",
      "4! = 24\n",
      "5! = 120\n"
     ]
    }
   ],
   "source": [
    "from _thread import start_new_thread\n",
    "from time import sleep\n",
    "\n",
    "threadId = 1 # thread counter\n",
    "waiting = 2 # 2 sec. waiting time\n",
    "\n",
    "def factorial(n):\n",
    "    global threadId\n",
    "    rc = 0\n",
    "    \n",
    "    if n < 1:   # base case\n",
    "        print(\"{}: {}\".format('\\nThread', threadId ))\n",
    "        threadId += 1\n",
    "        rc = 1\n",
    "    else:\n",
    "        returnNumber = n * factorial( n - 1 )  # recursive call\n",
    "        print(\"{}! = {}\".format(str(n), str(returnNumber)))\n",
    "        rc = returnNumber\n",
    "    \n",
    "    return rc\n",
    "\n",
    "start_new_thread(factorial, (5, ))\n",
    "start_new_thread(factorial, (4, ))\n",
    "\n",
    "print(\"Waiting for threads to return...\")\n",
    "sleep(waiting)"
   ]
  },
  {
   "cell_type": "markdown",
   "metadata": {},
   "source": [
    "### Threading Module To Create Threads\n",
    "The latest <threading> module provides rich features and better support for threads than the legacy <thread> module discussed in the previous section. The <threading> module is an excellent example of Python Multithreading.\n",
    "\n",
    "#### Steps To Implement Threads Using The Threading Module\n",
    "You may follow the below steps to implement a new thread using the <threading> module.\n",
    "\n",
    "1.Construct a subclass from the <Thread> class.\n",
    "2.Override the <__init__(self [,args])> method to supply arguments as per requirements.\n",
    "3.Next, override the <run(self [,args])> method to code the business logic of the thread.\n",
    "    \n",
    "Once you define the new <Thread> subclass, you have to instantiate it to start a new thread. Then, invoke the <start()> method to initiate it. It will eventually call the <run()> method to execute the business logic.\n",
    "    \n",
    "To know more about the <threading> module functionality go to (https://docs.python.org/3/library/threading.html)\n",
    "    \n",
    "### Example – Create A Thread Class To Print The Date"
   ]
  },
  {
   "cell_type": "code",
   "execution_count": 7,
   "metadata": {},
   "outputs": [
    {
     "name": "stdout",
     "output_type": "stream",
     "text": [
      "\n",
      "Starting Thread\n",
      "Thread[1]: 2019-05-16\n",
      "Exiting Thread\n",
      "\n",
      "Starting Thread\n",
      "Thread[2]: 2019-05-16\n",
      "Exiting Thread\n",
      "\n",
      "Exiting the Program!!!\n"
     ]
    }
   ],
   "source": [
    "#Python multithreading example to print current date.\n",
    "#1. Define a subclass using threading.Thread class.\n",
    "#2. Instantiate the subclass and trigger the thread.\n",
    "\n",
    "import threading\n",
    "import datetime\n",
    "\n",
    "class myThread (threading.Thread):\n",
    "    def __init__(self, name, counter):\n",
    "        threading.Thread.__init__(self)\n",
    "        self.threadID = counter\n",
    "        self.name = name\n",
    "        self.counter = counter\n",
    "    def run(self):\n",
    "        print(\"\\nStarting \" + self.name)\n",
    "        print_date(self.name, self.counter)\n",
    "        print(\"Exiting \" + self.name)\n",
    "\n",
    "def print_date(threadName, counter):\n",
    "    datefields = []\n",
    "    today = datetime.date.today()\n",
    "    datefields.append(today)\n",
    "    print(\"{}[{}]: {}\".format( threadName, counter, datefields[0] ))\n",
    "\n",
    "# Create new threads\n",
    "thread1 = myThread(\"Thread\", 1)\n",
    "thread2 = myThread(\"Thread\", 2)\n",
    "\n",
    "# Start new Threads\n",
    "thread1.start()\n",
    "thread2.start()\n",
    "\n",
    "thread1.join()\n",
    "thread2.join()\n",
    "print(\"\\nExiting the Program!!!\")"
   ]
  },
  {
   "cell_type": "markdown",
   "metadata": {},
   "source": [
    "### Multithreading Example For Locking"
   ]
  },
  {
   "cell_type": "code",
   "execution_count": 8,
   "metadata": {},
   "outputs": [
    {
     "name": "stdout",
     "output_type": "stream",
     "text": [
      "\n",
      "Starting Thread\n",
      "Thread[1]: 2019-05-16\n",
      "Exiting Thread\n",
      "\n",
      "Starting Thread\n",
      "Thread[2]: 2019-05-16\n",
      "Exiting Thread\n",
      "\n",
      "Exiting the Program!!!\n"
     ]
    }
   ],
   "source": [
    "\n",
    "#Python multithreading example to demonstrate locking.\n",
    "#1. Define a subclass using threading.Thread class.\n",
    "#2. Instantiate the subclass and trigger the thread. \n",
    "#3. Implement locks in thread's run method. \n",
    "\n",
    "import threading\n",
    "import datetime\n",
    "\n",
    "exitFlag = 0\n",
    "\n",
    "class myThread (threading.Thread):\n",
    "    def __init__(self, name, counter):\n",
    "        threading.Thread.__init__(self)\n",
    "        self.threadID = counter\n",
    "        self.name = name\n",
    "        self.counter = counter\n",
    "    def run(self):\n",
    "        print(\"\\nStarting \" + self.name)\n",
    "        # Acquire lock to synchronize thread\n",
    "        threadLock.acquire()\n",
    "        print_date(self.name, self.counter)\n",
    "        # Release lock for the next thread\n",
    "        threadLock.release()\n",
    "        print(\"Exiting \" + self.name)\n",
    "\n",
    "def print_date(threadName, counter):\n",
    "    datefields = []\n",
    "    today = datetime.date.today()\n",
    "    datefields.append(today)\n",
    "    print(\"{}[{}]: {}\".format( threadName, counter, datefields[0] ))\n",
    "\n",
    "threadLock = threading.Lock()\n",
    "threads = []\n",
    "\n",
    "# Create new threads\n",
    "thread1 = myThread(\"Thread\", 1)\n",
    "thread2 = myThread(\"Thread\", 2)\n",
    "\n",
    "# Start new Threads\n",
    "thread1.start()\n",
    "thread2.start()\n",
    "\n",
    "# Add threads to thread list\n",
    "threads.append(thread1)\n",
    "threads.append(thread2)\n",
    "\n",
    "# Wait for all threads to complete\n",
    "for thread in threads:\n",
    "    thread.join()\n",
    "\n",
    "print(\"\\nExiting the Program!!!\")"
   ]
  },
  {
   "cell_type": "code",
   "execution_count": null,
   "metadata": {},
   "outputs": [],
   "source": []
  }
 ],
 "metadata": {
  "kernelspec": {
   "display_name": "Python 3",
   "language": "python",
   "name": "python3"
  },
  "language_info": {
   "codemirror_mode": {
    "name": "ipython",
    "version": 3
   },
   "file_extension": ".py",
   "mimetype": "text/x-python",
   "name": "python",
   "nbconvert_exporter": "python",
   "pygments_lexer": "ipython3",
   "version": "3.6.5"
  }
 },
 "nbformat": 4,
 "nbformat_minor": 2
}
